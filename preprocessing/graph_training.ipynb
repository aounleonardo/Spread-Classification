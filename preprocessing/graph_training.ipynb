{
 "cells": [
  {
   "cell_type": "code",
   "execution_count": 30,
   "metadata": {},
   "outputs": [],
   "source": [
    "%load_ext autoreload\n",
    "%autoreload 2"
   ]
  },
  {
   "cell_type": "code",
   "execution_count": 2,
   "metadata": {},
   "outputs": [],
   "source": [
    "import os\n",
    "import json\n",
    "import random"
   ]
  },
  {
   "cell_type": "code",
   "execution_count": 3,
   "metadata": {},
   "outputs": [],
   "source": [
    "import torch\n",
    "import dgl\n",
    "import networkx as nx\n",
    "import matplotlib.pyplot as plt"
   ]
  },
  {
   "cell_type": "code",
   "execution_count": 157,
   "metadata": {},
   "outputs": [],
   "source": [
    "folder = '../data/graphs_spreads'\n",
    "ratings = {'False': 0, 'True': 1}\n",
    "\n",
    "def load_graph(filename):\n",
    "    with open(filename) as file:\n",
    "        return json.load(file)\n",
    "\n",
    "dataset = [\n",
    "    (load_graph(f'{folder}/{rating}/{filename}'), label) \n",
    "    for rating, label in ratings.items()\n",
    "    for filename in os.listdir(f'{folder}/{rating}')[:60] \n",
    "    if filename.endswith('json')\n",
    "]\n",
    "\n",
    "graphs, labels = zip(*dataset)"
   ]
  },
  {
   "cell_type": "code",
   "execution_count": 158,
   "metadata": {},
   "outputs": [],
   "source": [
    "def build_graph(graph):\n",
    "    nxg = nx.DiGraph()\n",
    "    nxg.add_nodes_from([n for n in graph['nodes']])\n",
    "    nxg.add_edges_from([(e['source'], e['target']) for e in graph['edges']])\n",
    "    g = dgl.DGLGraph()\n",
    "    g.from_networkx(nxg)\n",
    "    return g\n",
    "\n",
    "dgl_graphs = [build_graph(g) for g in graphs]"
   ]
  },
  {
   "cell_type": "code",
   "execution_count": 159,
   "metadata": {},
   "outputs": [],
   "source": [
    "import sklearn\n",
    "from sklearn.model_selection import train_test_split"
   ]
  },
  {
   "cell_type": "code",
   "execution_count": 174,
   "metadata": {},
   "outputs": [],
   "source": [
    "X_train, X_val, y_train, y_val = train_test_split(dgl_graphs, labels, test_size=0.2, stratify=labels)"
   ]
  },
  {
   "cell_type": "code",
   "execution_count": 161,
   "metadata": {},
   "outputs": [],
   "source": [
    "def collate(samples):\n",
    "    # The input `samples` is a list of pairs\n",
    "    #  (graph, label).\n",
    "    graphs, labels = map(list, zip(*samples))\n",
    "    batched_graph = dgl.batch(graphs)\n",
    "    return batched_graph, torch.tensor(labels)"
   ]
  },
  {
   "cell_type": "code",
   "execution_count": 162,
   "metadata": {},
   "outputs": [],
   "source": [
    "import dgl.function as fn\n",
    "import torch.nn as nn\n",
    "\n",
    "\n",
    "# Sends a message of node feature h.\n",
    "msg = fn.copy_src(src='h', out='m')\n",
    "\n",
    "def reduce(nodes):\n",
    "    \"\"\"Take an average over all neighbor node features hu and use it to\n",
    "    overwrite the original node feature.\"\"\"\n",
    "    accum = torch.mean(nodes.mailbox['m'], 1) ## should think about this, even sum didnt solve it, was 'mean'\n",
    "    return {'h': accum}\n",
    "\n",
    "class NodeApplyModule(nn.Module):\n",
    "    \"\"\"Update the node feature hv with ReLU(Whv+b).\"\"\"\n",
    "    def __init__(self, in_feats, out_feats, activation):\n",
    "        super(NodeApplyModule, self).__init__()\n",
    "        self.linear = nn.Linear(in_feats, out_feats)\n",
    "        self.activation = activation\n",
    "\n",
    "    def forward(self, node):\n",
    "        h = self.linear(node.data['h'])\n",
    "        h = self.activation(h)\n",
    "        return {'h' : h}\n",
    "\n",
    "class GCN(nn.Module):\n",
    "    def __init__(self, in_feats, out_feats, activation):\n",
    "        super(GCN, self).__init__()\n",
    "        self.apply_mod = NodeApplyModule(in_feats, out_feats, activation)\n",
    "\n",
    "    def forward(self, g, feature):\n",
    "        # Initialize the node features with h.\n",
    "        g.ndata['h'] = feature\n",
    "        g.update_all(msg, reduce)\n",
    "        g.apply_nodes(func=self.apply_mod)\n",
    "        return g.ndata.pop('h')"
   ]
  },
  {
   "cell_type": "code",
   "execution_count": 163,
   "metadata": {},
   "outputs": [],
   "source": [
    "def get_origin_indices(graph):\n",
    "    targets = set(edge.item() for edge in graph.edges()[1])\n",
    "    return [i for i in range(len(graph)) if i not in targets]\n",
    "\n",
    "def get_node_types(graph):\n",
    "    origins = get_origin_indices(graph)\n",
    "    types = torch.zeros(len(graph))\n",
    "    types[origins] = 1.\n",
    "    return types.view(-1, 1).float()"
   ]
  },
  {
   "cell_type": "code",
   "execution_count": 175,
   "metadata": {},
   "outputs": [],
   "source": [
    "import torch.nn.functional as F\n",
    "\n",
    "\n",
    "class Classifier(nn.Module):\n",
    "    def __init__(self, in_dim, hidden_dim):\n",
    "        super(Classifier, self).__init__()\n",
    "\n",
    "        self.layers = nn.ModuleList([\n",
    "            GCN(in_dim, hidden_dim, F.relu),\n",
    "            GCN(hidden_dim, hidden_dim, F.relu),\n",
    "        ])\n",
    "        self.classify = nn.Linear(hidden_dim, 1)\n",
    "\n",
    "    def forward(self, g):\n",
    "        # For undirected graphs, in_degree is the same as\n",
    "        # out_degree. I changed it to out_degrees() because it's a spanning tree\n",
    "        out_degrees = g.out_degrees().view(-1, 1).float()\n",
    "        types = get_node_types(g)\n",
    "        h = torch.cat([out_degrees, types], dim=-1)\n",
    "        for conv in self.layers:\n",
    "            h = conv(g, h)\n",
    "        g.ndata['h'] = h\n",
    "        hg = dgl.mean_nodes(g, 'h')\n",
    "        return torch.sigmoid(self.classify(hg))"
   ]
  },
  {
   "cell_type": "code",
   "execution_count": 182,
   "metadata": {},
   "outputs": [
    {
     "name": "stdout",
     "output_type": "stream",
     "text": [
      "Epoch 0, loss 0.7543\n",
      "Epoch 1, loss 0.7110\n",
      "Epoch 2, loss 0.6974\n",
      "Epoch 3, loss 0.6977\n",
      "Epoch 4, loss 0.7255\n",
      "Epoch 5, loss 0.6698\n",
      "Epoch 6, loss 0.6695\n",
      "Epoch 7, loss 0.6690\n",
      "Epoch 8, loss 0.6590\n",
      "Epoch 9, loss 0.6658\n",
      "Epoch 10, loss 0.6714\n",
      "Epoch 11, loss 0.6565\n",
      "Epoch 12, loss 0.6488\n",
      "Epoch 13, loss 0.6530\n",
      "Epoch 14, loss 0.6560\n",
      "Epoch 15, loss 0.6522\n",
      "Epoch 16, loss 0.6680\n",
      "Epoch 17, loss 0.6525\n",
      "Epoch 18, loss 0.6684\n",
      "Epoch 19, loss 0.6521\n",
      "Epoch 20, loss 0.6503\n",
      "Epoch 21, loss 0.6658\n",
      "Epoch 22, loss 0.6559\n",
      "Epoch 23, loss 0.6487\n",
      "Epoch 24, loss 0.6535\n",
      "Epoch 25, loss 0.6467\n",
      "Epoch 26, loss 0.6457\n",
      "Epoch 27, loss 0.6474\n",
      "Epoch 28, loss 0.6421\n",
      "Epoch 29, loss 0.6433\n",
      "Epoch 30, loss 0.6579\n",
      "Epoch 31, loss 0.6448\n",
      "Epoch 32, loss 0.6444\n",
      "Epoch 33, loss 0.6435\n",
      "Epoch 34, loss 0.6441\n",
      "Epoch 35, loss 0.6537\n",
      "Epoch 36, loss 0.6570\n",
      "Epoch 37, loss 0.6463\n",
      "Epoch 38, loss 0.6521\n",
      "Epoch 39, loss 0.6385\n",
      "Epoch 40, loss 0.6442\n",
      "Epoch 41, loss 0.6523\n",
      "Epoch 42, loss 0.6395\n",
      "Epoch 43, loss 0.6396\n",
      "Epoch 44, loss 0.6632\n",
      "Epoch 45, loss 0.6473\n",
      "Epoch 46, loss 0.6471\n",
      "Epoch 47, loss 0.6367\n",
      "Epoch 48, loss 0.6357\n",
      "Epoch 49, loss 0.6413\n",
      "Epoch 50, loss 0.6392\n",
      "Epoch 51, loss 0.6367\n",
      "Epoch 52, loss 0.6391\n",
      "Epoch 53, loss 0.6361\n",
      "Epoch 54, loss 0.6368\n",
      "Epoch 55, loss 0.6348\n",
      "Epoch 56, loss 0.6319\n",
      "Epoch 57, loss 0.6353\n",
      "Epoch 58, loss 0.6378\n",
      "Epoch 59, loss 0.6333\n",
      "Epoch 60, loss 0.6304\n",
      "Epoch 61, loss 0.6332\n",
      "Epoch 62, loss 0.6342\n",
      "Epoch 63, loss 0.6367\n",
      "Epoch 64, loss 0.6325\n",
      "Epoch 65, loss 0.6340\n",
      "Epoch 66, loss 0.6286\n",
      "Epoch 67, loss 0.6301\n",
      "Epoch 68, loss 0.6288\n",
      "Epoch 69, loss 0.6306\n",
      "Epoch 70, loss 0.6325\n",
      "Epoch 71, loss 0.6353\n",
      "Epoch 72, loss 0.6230\n",
      "Epoch 73, loss 0.6318\n",
      "Epoch 74, loss 0.6254\n",
      "Epoch 75, loss 0.6237\n",
      "Epoch 76, loss 0.6302\n",
      "Epoch 77, loss 0.6211\n",
      "Epoch 78, loss 0.6254\n",
      "Epoch 79, loss 0.6221\n"
     ]
    }
   ],
   "source": [
    "import torch.optim as optim\n",
    "from torch.utils.data import DataLoader\n",
    "\n",
    "data_loader = DataLoader(list(zip(X_train, y_train)), shuffle=True, collate_fn=collate, batch_size=4)\n",
    "\n",
    "model = Classifier(2, 256)\n",
    "loss_func = nn.BCELoss()\n",
    "optimizer = optim.Adam(model.parameters(), lr=0.001)\n",
    "\n",
    "epoch_losses = []\n",
    "for epoch in range(80):\n",
    "    epoch_loss = 0\n",
    "    for iter, (bg, label) in enumerate(data_loader):\n",
    "        prediction = model(bg)\n",
    "        loss = loss_func(prediction.squeeze(), label.float())\n",
    "        optimizer.zero_grad()\n",
    "        loss.backward()\n",
    "        optimizer.step()\n",
    "        epoch_loss += loss.detach().item()\n",
    "    epoch_loss /= (iter + 1)\n",
    "    print('Epoch {}, loss {:.4f}'.format(epoch, epoch_loss))\n",
    "    epoch_losses.append(epoch_loss)"
   ]
  },
  {
   "cell_type": "code",
   "execution_count": 183,
   "metadata": {},
   "outputs": [
    {
     "name": "stdout",
     "output_type": "stream",
     "text": [
      "Accuracy of argmax predictions on the test set: 54.166667%\n"
     ]
    }
   ],
   "source": [
    "model.eval()\n",
    "# Convert a list of tuples to two lists\n",
    "# test_X, test_Y = map(list, zip(*(testset)))\n",
    "test_bg = dgl.batch(X_val)\n",
    "test_Y = torch.tensor(y_val).float().view(-1, 1)\n",
    "probs_Y = model(test_bg) # was torch.softmax(model(test_bg), 1)\n",
    "pred_Y = torch.round(probs_Y).view(-1, 1)\n",
    "print('Accuracy of argmax predictions on the test set: {:4f}%'.format(\n",
    "    (test_Y == pred_Y.float()).sum().item() / len(test_Y) * 100))"
   ]
  }
 ],
 "metadata": {
  "file_extension": ".py",
  "kernelspec": {
   "display_name": "Python 3",
   "language": "python",
   "name": "python3"
  },
  "language_info": {
   "codemirror_mode": {
    "name": "ipython",
    "version": 3
   },
   "file_extension": ".py",
   "mimetype": "text/x-python",
   "name": "python",
   "nbconvert_exporter": "python",
   "pygments_lexer": "ipython3",
   "version": "3.7.4"
  },
  "mimetype": "text/x-python",
  "name": "python",
  "npconvert_exporter": "python",
  "pygments_lexer": "ipython3",
  "version": 3
 },
 "nbformat": 4,
 "nbformat_minor": 4
}
